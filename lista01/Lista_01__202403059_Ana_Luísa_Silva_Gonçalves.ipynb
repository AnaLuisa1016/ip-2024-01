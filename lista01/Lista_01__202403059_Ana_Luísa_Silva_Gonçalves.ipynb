{
  "nbformat": 4,
  "nbformat_minor": 0,
  "metadata": {
    "colab": {
      "provenance": []
    },
    "kernelspec": {
      "name": "python3",
      "display_name": "Python 3"
    },
    "language_info": {
      "name": "python"
    }
  },
  "cells": [
    {
      "cell_type": "code",
      "execution_count": null,
      "metadata": {
        "id": "Ca-29bDpIjx5"
      },
      "outputs": [],
      "source": []
    },
    {
      "cell_type": "markdown",
      "source": [],
      "metadata": {
        "id": "j7UMfgPVQSkS"
      }
    },
    {
      "cell_type": "markdown",
      "source": [],
      "metadata": {
        "id": "w0WGZrxdQSnm"
      }
    },
    {
      "cell_type": "markdown",
      "source": [
        "Questão 01\n",
        "\n",
        "var: Nota1, Nota2, Nota3, x\n",
        "\n",
        "Início\n",
        "\n",
        "Leia (Nota1, Nota2, Nota3)\n",
        "\n",
        "x= (Nota1 + Nota2 + Nota3)/3\n",
        "\n",
        "Média = x\n",
        "\n",
        "se x>6 ou x=6\n",
        "   Imprime (\"Média =\", x)\n",
        "   Imprime (\"APROVADO\")\n",
        "\n",
        "senão\n",
        "   Imprime (\"Média =\" x)\n",
        "   Imprime (\"Reprovado\")\n",
        "\n",
        "fimse\n",
        "fimse\n",
        "\n",
        "Fimalgoritmo\n"
      ],
      "metadata": {
        "id": "fA86sCGLI7jG"
      }
    },
    {
      "cell_type": "markdown",
      "source": [],
      "metadata": {
        "id": "NmmFC7hVOTQC"
      }
    },
    {
      "cell_type": "markdown",
      "source": [
        "*Questão* 02\n",
        "\n",
        "Início\n",
        "\n",
        "\n",
        "\n",
        "Leia (n)\n",
        "\n",
        "var:n, w, y\n",
        "\n",
        "Início\n",
        "\n",
        "Número de jogos = n\n",
        "\n",
        "x <-O\n",
        "\n",
        "enquanto (x<n) faca\n",
        "\n",
        "W  %Ingresso Popular %Ingresso Geral  %Ingresso Arquibancada %Ingresso Cadeiras\n",
        "\n",
        "\n",
        "y =  Ingresso Popular * 1 + Ingresso Geral * 5 + Ingresso Arquibancada * 10 + Ingresso Cadeiras * 20\n",
        "\n",
        "Imprima (\"A RENDA DO JOGO N.x E=y)\n",
        "\n",
        "Fimalgoritmo"
      ],
      "metadata": {
        "id": "74dq1yT8NGn_"
      }
    },
    {
      "cell_type": "markdown",
      "source": [
        "Questão 03\n",
        "\n",
        "\n",
        "var:n1,n2,n3,concatenacao,quadrado\n",
        "\n",
        "Início\n",
        "\n",
        "Leia (n1)\n",
        "\n",
        "Leia (n2)\n",
        "\n",
        "Leia (n3)\n",
        "\n",
        "se 0<n1,n2,n3<10\n",
        "\n",
        "concatenacao=10^2*n1+10^1*n2+10^0*n3\n",
        "\n",
        "quadrado=n1n2n3^2\n",
        "\n",
        "escreva concatenação, quadrado\n",
        "\n",
        "se n1,n2, n3 >= 10 ou não inteiro\n",
        "\n",
        "Imprima (\"Dígito Inválido\")\n",
        "\n",
        "Fimalgoritmo\n"
      ],
      "metadata": {
        "id": "T2hhSHwtQdJ2"
      }
    },
    {
      "cell_type": "markdown",
      "source": [
        "Questão 4\n",
        "\n",
        "Var: valor salário mínimo, consumo de kW por residência, y, z, d\n",
        "\n",
        "Inicio\n",
        "\n",
        "Leia (valor salário mínimo)\n",
        "\n",
        "Leia (consumo de kW por residência)\n",
        "\n",
        "Custo por kW = 0,07 * salário mínimo -> y\n",
        "\n",
        "Custo do consumo da residência = consumo * y -> z\n",
        "\n",
        "Custo com desconto = consumo * y * 0,9 -> d\n",
        "\n",
        "escreva (valor salário mínimo)\n",
        "\n",
        "escreva (consumo de kW por residência)\n",
        "\n",
        "Imprima (\"Custo por kW: R$\", y)\n",
        "\n",
        "Imprima (\"Custo do consumo: R$\", z)\n",
        "\n",
        "Imprima (\"Custo com desconto: R$\", d)\n",
        "\n",
        "Fimalgoritmo"
      ],
      "metadata": {
        "id": "qtB37Ga81Pj6"
      }
    },
    {
      "cell_type": "markdown",
      "source": [
        "Questão 5\n",
        "\n",
        "var (c,m,t,v,x)\n",
        "\n",
        "Início\n",
        "\n",
        "t -> C I ou R\n",
        "\n",
        "Leia (c, m, t)\n",
        "\n",
        "custo=v\n",
        "\n",
        "se t<- C\n",
        "\n",
        "quando x>80 entao v = 500*80+0,25*(x-80)\n",
        "\n",
        "quando x<=80 entao v = 500*x\n",
        "\n",
        "se t<- I\n",
        "\n",
        "quando x>100, v = 800*100+0,04*(x-100)\n",
        "\n",
        "quando x<=100, entao v = 100*x\n",
        "\n",
        "se t<- R, v = 5 + 0,05*x\n",
        "\n",
        "Imprima (\"Conta =\", u)\n",
        "\n",
        "Imprima (\"Valor da conta =\", v)\n",
        "\n",
        "Fimalgoritmo\n",
        "\n",
        "\n",
        "\n",
        "\n",
        "\n",
        "\n"
      ],
      "metadata": {
        "id": "21VNuHTp4RE5"
      }
    },
    {
      "cell_type": "markdown",
      "source": [
        "Questão 06\n",
        "\n",
        "var:t,F,C\n",
        "\n",
        "Início\n",
        "\n",
        "Leia (t)\n",
        "\n",
        "y->0\n",
        "\n",
        "enquanto (y<t) faça\n",
        "\n",
        "Leia (F)\n",
        "\n",
        "C = 5(F-32)/9\n",
        "\n",
        "Imprima (\" F FAHRENHEIT EQUIVALE A C CELSIUS\")\n",
        "\n",
        "Fimalgoritmo\n",
        "\n",
        "\n",
        "\n",
        "\n"
      ],
      "metadata": {
        "id": "Oestc99LEVhf"
      }
    },
    {
      "cell_type": "markdown",
      "source": [
        "Questão 07\n",
        "\n",
        "Var: F,P,X,Y\n",
        "\n",
        "Início\n",
        "\n",
        "Leia (F)\n",
        "\n",
        "Leia (P)\n",
        "\n",
        "Temperatura Celcius = (5*F - 160)/9 -> X\n",
        "\n",
        "Quantidade em mm = P*25.4 -> Y\n",
        "\n",
        "Imprima (\"O VALOR EM CELCIUS = \", X)\n",
        "\n",
        "Imprima (\"A QUANTIDADE DE CHUVA = \", Y)\n",
        "\n",
        "Fimalgoritmo"
      ],
      "metadata": {
        "id": "O4XfKpU-dCde"
      }
    },
    {
      "cell_type": "markdown",
      "source": [
        "Questão 08\n",
        "\n",
        "var: raio, altura, área, x\n",
        "\n",
        "Início\n",
        "\n",
        "Leia (raio)\n",
        "\n",
        "Leia (altura)\n",
        "\n",
        "pi -> 3.14159\n",
        "\n",
        "área= pi * raio*raio *2 + 2 * pi * raio *altura\n",
        "\n",
        "x = área * 100\n",
        "\n",
        "Imprima (\"O VALOR DO CUSTO É =\", x)\n",
        "\n",
        "Fimalgoritmo\n",
        "\n",
        "\n"
      ],
      "metadata": {
        "id": "YHj84zvQe3F1"
      }
    },
    {
      "cell_type": "markdown",
      "source": [
        "Questão 09\n",
        "\n",
        "var: coeficienteA, coeficienteB, coeficienteC, X\n",
        "\n",
        "Início\n",
        "\n",
        "Leia (coeficienteA)\n",
        "\n",
        "Leia (coeficienteB)\n",
        "\n",
        "Leia (coeficienteC)\n",
        "\n",
        "Delta = B*B - 4AC -> X\n",
        "\n",
        "Imprima (\"O VALOR DE DELTA É = \", X)\n",
        "\n",
        "Fimalgoritmo"
      ],
      "metadata": {
        "id": "hN4UIMBzgOLY"
      }
    },
    {
      "cell_type": "markdown",
      "source": [
        "Questão 10\n",
        "\n",
        "var: a, b, c, d, det(M)\n",
        "\n",
        "Início\n",
        "\n",
        "Leia (a)\n",
        "\n",
        "Leia (b)\n",
        "\n",
        "Leia (c)\n",
        "\n",
        "Leia (d)\n",
        "\n",
        "det(M)= a*d-bc\n",
        "\n",
        "Imprima (\"o VALOR DO DETERMINANTE É = \", det(M))\n",
        "\n",
        "Fimalgoritmo"
      ],
      "metadata": {
        "id": "-v9eFJZHw0Hw"
      }
    },
    {
      "cell_type": "markdown",
      "source": [
        "Questão 11\n",
        "\n",
        "var: número\n",
        "\n",
        "Inicio\n",
        "\n",
        "Leia (número)\n",
        "\n",
        "Se (número mod 3) = 0 && (número mod 5) = 0 entao\n",
        "\n",
        "Imprima (\"O NÚMERO É DIVISÍVEL\")\n",
        "\n",
        "    Senão\n",
        "\n",
        "    Imprima (\"O NÚMERO NÃO É DIVISÍVEL\")\n",
        "\n",
        "fimse\n",
        "\n",
        "Fimalgoritmo\n"
      ],
      "metadata": {
        "id": "Qg0VBLsjyrDb"
      }
    },
    {
      "cell_type": "markdown",
      "source": [
        "Questão 12\n",
        "\n",
        "var:horas, custo\n",
        "\n",
        "Início\n",
        "\n",
        "Leia (\"horas\")\n",
        "\n",
        "horas -> y\n",
        "\n",
        "Se y<3, custo = y*5\n",
        "\n",
        "   Senao y>=3, custo = y/3 * 10\n",
        "\n",
        "Imprima (\"O VALOR A PAGAR É=\", y)\n",
        "\n",
        "Fimalgoritmo"
      ],
      "metadata": {
        "id": "5SwhWFn4zNUZ"
      }
    },
    {
      "cell_type": "markdown",
      "source": [
        "Questão 13\n",
        "\n",
        "var: nota\n",
        "\n",
        "Início\n",
        "\n",
        "Leia (nota)\n",
        "\n",
        "nota -> x\n",
        "\n",
        "  se 0<nota<6,0 ou nota = 6,0\n",
        "\n",
        "Imprima (\"NOTA = x\")\n",
        "Imprima (\"CONCEITO= D\")\n",
        "\n",
        " senao\n",
        "\n",
        "   se 6<nota<7,5\n",
        "\n",
        "Imprima (\"Nota = \", x)\n",
        "Imprima (\"CONCEITO = C\")\n",
        "\n",
        "   senao\n",
        "   \n",
        "    se 7,5<nota<9\n",
        "\n",
        "Imprima (\"Nota = \", x)\n",
        "Imprima (\"CONCEITO = B\")\n",
        "\n",
        "     senao\n",
        "     \n",
        "      se 9<nota<10 ou nota = 10\n",
        "\n",
        "Imprima (\"Nota = \", x)\n",
        "Imprima (\"CONCEITO = A\")\n",
        "\n",
        "    fimse\n",
        "   fimse\n",
        "  fimse\n",
        " fimse\n",
        "\n",
        "Fimalgoritmo"
      ],
      "metadata": {
        "id": "c8zTr4h30k64"
      }
    },
    {
      "cell_type": "markdown",
      "source": [
        "Questão 14\n",
        "\n",
        "var: altura, aresta do hexagono, x\n",
        "\n",
        "Início\n",
        "\n",
        "Leia (altura, aresta do hexagono)\n",
        "\n",
        "x = 1/3 * 3 * (aresta * aresta * 1.7/2) * altura\n",
        "\n",
        "Imprima (\"O VOLUME DA PIRAMIDE É =\", x, \"METROS CÚBICOS\")\n",
        "\n",
        "Fimalgoritmo\n",
        "\n",
        "\n"
      ],
      "metadata": {
        "id": "0dwn9OGU2WcB"
      }
    },
    {
      "cell_type": "markdown",
      "source": [
        "Questão 15\n",
        "\n",
        "\n",
        "\n",
        "Leia (número N, 5>N>2000)\n",
        "\n",
        "se N for par\n",
        "\n",
        "y = N²\n",
        "\n",
        "Imprime \"(n² ="
      ],
      "metadata": {
        "id": "EnbbL6iy4aZc"
      }
    },
    {
      "cell_type": "markdown",
      "source": [
        "Questão 16\n",
        "\n",
        "Var: salario, x\n",
        "\n",
        "Início\n",
        "\n",
        "Leia (\"salario\")\n",
        "\n",
        "se salario <= 3000 entao\n",
        "\n",
        "x = 300*1,5\n",
        "\n",
        " senão\n",
        "\n",
        "  se salário>300\n",
        "\n",
        "x = 300*1,3\n",
        "\n",
        "Imprime (\"SALÁRIO COM REAJUSTE = \", x)\n",
        "\n",
        " fimse\n",
        "fimse\n",
        "\n",
        "Fimalgoritmo"
      ],
      "metadata": {
        "id": "tqqgVd58ERg7"
      }
    },
    {
      "cell_type": "markdown",
      "source": [
        "Questão 17\n",
        "\n",
        "Var:x,y,ny\n",
        "\n",
        "Início\n",
        "\n",
        "ny -> posição do número\n",
        "\n",
        "ny -> 0\n",
        "\n",
        "enquanto (ny<y)\n",
        "\n",
        "Leia (x)\n",
        "\n",
        "se (x/n-1 =0), entao\n",
        "\n",
        "Leia (y)\n",
        "\n",
        "escreva x + ny * 2\n",
        "\n",
        "  senao\n",
        "   \n",
        "   se (x/n-1 <>0), entao\n",
        "\n",
        "   Imprima(\"O PRIEMIRO NÚMERO NÃO É PAR\")\n",
        "\n",
        " fimse\n",
        "fimse\n",
        "\n",
        "Fimalgoritmo\n",
        "\n",
        "\n"
      ],
      "metadata": {
        "id": "HqWnYXdgFP5-"
      }
    },
    {
      "cell_type": "markdown",
      "source": [
        "Questão 18\n",
        "\n",
        "var:vi, r, en, s\n",
        "\n",
        "Início\n",
        "\n",
        "Leia (vi)\n",
        "Leia (r)\n",
        "Leia (en)\n",
        "\n",
        "s-> vi + r^en\n",
        "\n",
        "escreva (s)\n",
        "\n",
        "Fimalgoritmo"
      ],
      "metadata": {
        "id": "hpCVnIHA1IiW"
      }
    },
    {
      "cell_type": "markdown",
      "source": [
        "Questão 19\n",
        "\n",
        "var\n",
        "\n"
      ],
      "metadata": {
        "id": "8gaJw_wL2-JB"
      }
    },
    {
      "cell_type": "markdown",
      "source": [
        "Questão 20\n",
        "\n",
        "var:h,m,s,t\n",
        "\n",
        "Início\n",
        "\n",
        "Leia(h)\n",
        "Leia(m)\n",
        "Leia(s)\n",
        "\n",
        "t->h*3600 + m * 60 + s\n",
        "\n",
        "Imprima (\"O TEMPO EM SEGUNDOS É = \", t)\n",
        "\n",
        "Fimalgoritmo"
      ],
      "metadata": {
        "id": "Gx7uDP3E3Tqz"
      }
    }
  ]
}